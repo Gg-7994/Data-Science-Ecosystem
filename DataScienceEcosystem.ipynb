{
 "cells": [
  {
   "cell_type": "markdown",
   "id": "95957301-555f-42cc-a85e-16e917d130fa",
   "metadata": {},
   "source": [
    "# Data Science Tools and Ecosystem"
   ]
  },
  {
   "cell_type": "markdown",
   "id": "ef544a04-945c-4294-9bbb-caac78f677f4",
   "metadata": {},
   "source": [
    "In this notebook, Data Science Tools and Ecosystem are summarized."
   ]
  },
  {
   "cell_type": "markdown",
   "id": "25a491d2-485c-4f73-a838-f353eb61272c",
   "metadata": {},
   "source": [
    "**Objectives:**\n",
    "+ List of some languages used for data science\n",
    "+ List of some common libraries used in data science\n",
    "+ List of some Data Science Tools\n",
    "+ Some examples of arithemetic expressions in python"
   ]
  },
  {
   "cell_type": "markdown",
   "id": "5500408b-3092-4901-8c4a-7d23f29c5803",
   "metadata": {},
   "source": [
    "Some of the popular languages that Data Scientists use are:\n",
    "1. R\n",
    "2. Python\n",
    "3. SQL"
   ]
  },
  {
   "cell_type": "markdown",
   "id": "bc78aab4-ce40-4009-ada1-256cbc661461",
   "metadata": {},
   "source": [
    "Some of the commonly used libraries used by Data Scientists include:\n",
    "1. numpy\n",
    "2. panda\n",
    "3. ggplot"
   ]
  },
  {
   "cell_type": "markdown",
   "id": "d2c2cc9d-a181-4732-a6a5-60cc5dc82ba1",
   "metadata": {},
   "source": [
    "|Data Science Tools|\n",
    "|------------------|\n",
    "|tensorflow|\n",
    "|jupyter notebook|\n",
    "|Apache Spark|"
   ]
  },
  {
   "cell_type": "markdown",
   "id": "b9e0daad-0a65-462b-9c84-7ea4e31519fe",
   "metadata": {},
   "source": [
    "### Below are a few examples of evaluating arithmetic expressions in Python"
   ]
  },
  {
   "cell_type": "code",
   "execution_count": 1,
   "id": "1b7beae2-3260-49f5-80bd-594e6f7df90b",
   "metadata": {},
   "outputs": [
    {
     "name": "stdout",
     "output_type": "stream",
     "text": [
      "17\n"
     ]
    }
   ],
   "source": [
    "#This a simple arithmetic expression to mutiply then add integers\n",
    "print((3*4)+5)"
   ]
  },
  {
   "cell_type": "code",
   "execution_count": 1,
   "id": "bcb735a4-a988-4b5b-8936-10ac39daa384",
   "metadata": {},
   "outputs": [
    {
     "name": "stdout",
     "output_type": "stream",
     "text": [
      "3.3333333333333335 hours\n"
     ]
    }
   ],
   "source": [
    "#This will convert 200 minutes to hours by diving by 60\n",
    "print(200/60,\"hours\")"
   ]
  },
  {
   "cell_type": "markdown",
   "id": "1660f8e5-7925-494a-8123-bad3073c1530",
   "metadata": {},
   "source": [
    "## Author:\n",
    "Gautam Goyal"
   ]
  }
 ],
 "metadata": {
  "kernelspec": {
   "display_name": "Python 3 (ipykernel)",
   "language": "python",
   "name": "python3"
  },
  "language_info": {
   "codemirror_mode": {
    "name": "ipython",
    "version": 3
   },
   "file_extension": ".py",
   "mimetype": "text/x-python",
   "name": "python",
   "nbconvert_exporter": "python",
   "pygments_lexer": "ipython3",
   "version": "3.11.7"
  }
 },
 "nbformat": 4,
 "nbformat_minor": 5
}
